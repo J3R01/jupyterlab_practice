{
 "cells": [
  {
   "cell_type": "markdown",
   "id": "a0bafe70-ea8a-41b6-9716-d4b8fb93a355",
   "metadata": {},
   "source": [
    "# Jeremy Bronsch #"
   ]
  },
  {
   "cell_type": "markdown",
   "id": "5889cc4a-4e08-4e73-937b-9a378259c8d8",
   "metadata": {},
   "source": [
    "Notebook for assignment 7"
   ]
  },
  {
   "cell_type": "code",
   "execution_count": 1,
   "id": "9babd3ee-5c9f-43e6-bbd7-65a01ecb6f9c",
   "metadata": {},
   "outputs": [
    {
     "data": {
      "text/plain": [
       "5.0"
      ]
     },
     "execution_count": 1,
     "metadata": {},
     "output_type": "execute_result"
    }
   ],
   "source": [
    "def compute_mean(numbers):\n",
    "    return sum(numbers) / len(numbers)\n",
    "\n",
    "compute_mean([2, 4, 6, 8])"
   ]
  },
  {
   "cell_type": "markdown",
   "id": "723aad2f-6bc2-4759-a67c-fe9326adec2f",
   "metadata": {},
   "source": [
    "This code defines a python function called compute_mean which calculates the mean of the list of numbers. The mean is the sum of all the numbers divided by the count of the numbers."
   ]
  },
  {
   "cell_type": "markdown",
   "id": "ce8afada-c93c-4042-9695-dda06f77cc9b",
   "metadata": {},
   "source": [
    "$$ mean = \\frac{{sum}({n})}{{len}({n})}$$\n",
    "\n",
    "$$ mean = {{sum} x {n}} \\div {{len} x {n}} $$"
   ]
  },
  {
   "cell_type": "code",
   "execution_count": null,
   "id": "2cee0fa5-3718-4616-9276-22be18e72fc7",
   "metadata": {},
   "outputs": [],
   "source": []
  }
 ],
 "metadata": {
  "kernelspec": {
   "display_name": "Python 3 (ipykernel)",
   "language": "python",
   "name": "python3"
  },
  "language_info": {
   "codemirror_mode": {
    "name": "ipython",
    "version": 3
   },
   "file_extension": ".py",
   "mimetype": "text/x-python",
   "name": "python",
   "nbconvert_exporter": "python",
   "pygments_lexer": "ipython3",
   "version": "3.12.2"
  }
 },
 "nbformat": 4,
 "nbformat_minor": 5
}
