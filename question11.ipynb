{
 "cells": [
  {
   "cell_type": "markdown",
   "id": "a0bafe70-ea8a-41b6-9716-d4b8fb93a355",
   "metadata": {},
   "source": [
    "# Jeremy Bronsch #"
   ]
  },
  {
   "cell_type": "markdown",
   "id": "5889cc4a-4e08-4e73-937b-9a378259c8d8",
   "metadata": {},
   "source": [
    "Notebook for assignment 7"
   ]
  },
  {
   "cell_type": "code",
   "execution_count": 1,
   "id": "9babd3ee-5c9f-43e6-bbd7-65a01ecb6f9c",
   "metadata": {},
   "outputs": [
    {
     "data": {
      "text/plain": [
       "5.0"
      ]
     },
     "execution_count": 1,
     "metadata": {},
     "output_type": "execute_result"
    }
   ],
   "source": [
    "def compute_mean(numbers):\n",
    "    return sum(numbers) / len(numbers)\n",
    "\n",
    "compute_mean([2, 4, 6, 8])"
   ]
  },
  {
   "cell_type": "code",
   "execution_count": null,
   "id": "3b90af19-7292-4fc3-aefa-53e3f824594a",
   "metadata": {},
   "outputs": [],
   "source": []
  }
 ],
 "metadata": {
  "kernelspec": {
   "display_name": "Python 3 (ipykernel)",
   "language": "python",
   "name": "python3"
  },
  "language_info": {
   "codemirror_mode": {
    "name": "ipython",
    "version": 3
   },
   "file_extension": ".py",
   "mimetype": "text/x-python",
   "name": "python",
   "nbconvert_exporter": "python",
   "pygments_lexer": "ipython3",
   "version": "3.12.2"
  }
 },
 "nbformat": 4,
 "nbformat_minor": 5
}
